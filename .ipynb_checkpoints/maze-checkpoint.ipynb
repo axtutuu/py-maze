{
 "cells": [
  {
   "cell_type": "code",
   "execution_count": 29,
   "metadata": {},
   "outputs": [
    {
     "data": {
      "image/png": "[encoded data removed]",
      "text/plain": [
       "<Figure size 360x360 with 1 Axes>"
      ]
     },
     "metadata": {
      "needs_background": "light"
     },
     "output_type": "display_data"
    }
   ],
   "source": [
    "import numpy as np\n",
    "import matplotlib.pyplot as plt\n",
    "%matplotlib inline\n",
    "\n",
    "\n",
    "fig = plt.figure(figsize=(5, 5))\n",
    "ax = plt.gca()\n",
    "\n",
    "# 赤い壁を描く\n",
    "# Usage:\n",
    "# plt.plot([x], [y], color='red', linewidth=2)\n",
    "\n",
    "plt.plot([1, 1], [0, 1], color='red', linewidth=2)\n",
    "plt.plot([1, 2], [2, 2], color='red', linewidth=2)\n",
    "plt.plot([2, 2], [2, 1], color='red', linewidth=2)\n",
    "plt.plot([2, 3], [1, 1], color='red', linewidth=2)\n",
    "\n",
    "\n",
    "# 状態を示す文字を描く\n",
    "plt.text(0.5, 2.5, 'S0', size=14, ha='center')\n",
    "plt.text(1.5, 2.5, 'S1', size=14, ha='center')\n",
    "plt.text(2.5, 2.5, 'S2', size=14, ha='center')\n",
    "plt.text(0.5, 1.5, 'S3', size=14, ha='center')\n",
    "plt.text(1.5, 1.5, 'S4', size=14, ha='center')\n",
    "plt.text(2.5, 1.5, 'S5', size=14, ha='center')\n",
    "plt.text(0.5, 0.5, 'S6', size=14, ha='center')\n",
    "plt.text(1.5, 0.5, 'S7', size=14, ha='center')\n",
    "plt.text(2.5, 0.5, 'S8', size=14, ha='center')\n",
    "plt.text(0.5, 2.3, 'START', size=14, ha='center')\n",
    "\n",
    "\n",
    "# 描画範囲の設定とメモリの削除\n",
    "ax.set_xlim(0,  3)\n",
    "ax.set_ylim(0,  3)\n",
    "\n",
    "# 現在地S0に緑丸を描画する\n",
    "line, = ax.plot([0.5], [2.5], marker=\"o\", color=\"g\", markersize=60)\n"
   ]
  },
  {
   "cell_type": "code",
   "execution_count": 36,
   "metadata": {},
   "outputs": [
    {
     "data": {
      "text/plain": [
       "array([[0.        , 0.5       , 0.5       , 0.        ],\n",
       "       [0.        , 0.5       , 0.        , 0.5       ],\n",
       "       [0.        , 0.        , 0.5       , 0.5       ],\n",
       "       [0.33333333, 0.33333333, 0.33333333, 0.        ],\n",
       "       [0.        , 0.        , 0.5       , 0.5       ],\n",
       "       [1.        , 0.        , 0.        , 0.        ],\n",
       "       [1.        , 0.        , 0.        , 0.        ],\n",
       "       [0.5       , 0.5       , 0.        , 0.        ],\n",
       "       [0.        , 0.        , 0.        , 1.        ]])"
      ]
     },
     "execution_count": 36,
     "metadata": {},
     "output_type": "execute_result"
    }
   ],
   "source": [
    "# 初期の方策を決定するパラメータtheta_0 を設定\n",
    "\n",
    "# 行は状態0 ~ 7, 列は移動方向で↑、→、↓、←を表す\n",
    "# 例 s0の場合は→、↓のみ移動可能\n",
    "theta_0 = np.array([\n",
    "    [np.nan, 1, 1, np.nan], # s0\n",
    "    [np.nan, 1, np.nan, 1], #s1\n",
    "    [np.nan, np.nan, 1, 1], #s2\n",
    "    [1, 1, 1, np.nan], #s3\n",
    "    [np.nan, np.nan, 1, 1], #s4\n",
    "    [1, np.nan, np.nan, np.nan], #s5\n",
    "    [1, np.nan, np.nan, np.nan], #s6\n",
    "    [1, 1, np.nan, np.nan], #s7\n",
    "    [np.nan, np.nan, np.nan, 1], #s8\n",
    "])\n",
    "\n",
    "# ポリシーtheta を行動ポリシーpiに変換する関数の定義\n",
    "def simple_convert_into_pi_from_theta(theta):\n",
    "    # 割合の計算\n",
    "    [m, n] = theta.shape # thetaの行列サイズ\n",
    "    pi = np.zeros((m, n))\n",
    "    for i in range(0, m):\n",
    "        pi[i, :] = theta[i, :] / np.nansum(theta[i, :]) # 割合の計算\n",
    "\n",
    "    pi = np.nan_to_num(pi) # nanを0に変換\n",
    "    return pi\n",
    "\n",
    "\n",
    "# 初期ポリシーを求める\n",
    "pi_0 = simple_convert_into_pi_from_theta(theta_0)\n",
    "\n",
    "pi_0"
   ]
  },
  {
   "cell_type": "code",
   "execution_count": 38,
   "metadata": {},
   "outputs": [
    {
     "name": "stdout",
     "output_type": "stream",
     "text": [
      "[0, 3, 0, 3, 6, 3, 6, 3, 0, 3, 6, 3, 0, 1, 2, 1, 0, 3, 0, 3, 6, 3, 6, 3, 4, 7, 8]\n",
      "迷路を解くのにかかったステップ数は26です\n"
     ]
    }
   ],
   "source": [
    "# 1step移動後の状態sを求める関数を定義\n",
    "\n",
    "def get_next_s(pi, s):\n",
    "    direction = [\"up\", \"right\", \"down\", \"left\"]\n",
    "    next_direction = np.random.choice(direction, p=pi[s, :])\n",
    "    # pi[s, :]の確率に従って、directionが選択される\n",
    "    \n",
    "    if next_direction == \"up\":\n",
    "        s_next = s - 3 #上に移動するときは状態の数字が3小さくなる\n",
    "    elif next_direction == \"right\":\n",
    "        s_next = s + 1 # 右に移動するときは状態の数字が1大きくなる\n",
    "    elif next_direction == \"down\":\n",
    "        s_next = s + 3 # 下に移動するときは状態の数字が3大きくなる\n",
    "    elif next_direction == \"left\":\n",
    "        s_next = s - 1 # みだりに移動するときは状態の数字が1小さくなる\n",
    "\n",
    "    return s_next\n",
    "\n",
    "# 迷路内をエージェントがゴールするまで移動させる関数\n",
    "\n",
    "def goal_maze(pi):\n",
    "    s = 0 # スタート地点\n",
    "    state_history = [0] # エージェントの移動記録をするリスト\n",
    "    \n",
    "    while (1): #ゴールするまでループ\n",
    "        next_s = get_next_s(pi, s)\n",
    "        state_history.append(next_s) # 記録リストに次の状態を追加\n",
    "        \n",
    "        if next_s == 8: # ゴール地点なら終了\n",
    "            break\n",
    "        else:\n",
    "             s = next_s\n",
    "    return state_history\n",
    "\n",
    "# 迷路内をゴールを目指して移動\n",
    "state_history = goal_maze(pi_0)\n",
    "print(state_history)\n",
    "print(\"迷路を解くのにかかったステップ数は\" + str(len(state_history) - 1) + \"です\")\n",
    "\n"
   ]
  },
  {
   "cell_type": "code",
   "execution_count": null,
   "metadata": {},
   "outputs": [],
   "source": [
    "# エージェントの移動の様子を可視化\n",
    "\n",
    "from matplotlib import animation\n",
    "from IPython.display import HTML\n",
    "\n",
    "def init():\n",
    "    # 背景画像の初期化\n",
    "    line.set_data([], [])\n",
    "    return (line, )\n",
    "\n",
    "def animate(i):\n",
    "    # フレームごとの描画内容\n",
    "    state = state_history[i] # 現在の場所を描く\n",
    "    x = ( state % 3) + 0.5 # 状態のx座標は、3割った余り+0.5\n",
    "    y = 2.5 - int(state / 3) # y座標は3で割った商を2.5から引く\n",
    "    line.set_data(x, y)\n",
    "    return (line, )\n",
    "\n",
    "# 初期化関数とフレームごとの描画関数を用いて動画を作成\n",
    "anim = animation.FuncAnimation(fig, animate, init_func=init, frames=len(state_history), interval=200, repeat=False)\n",
    "\n",
    "HTML(anim.to_jshtml())"
   ]
  }
 ],
 "metadata": {
  "kernelspec": {
   "display_name": "Python 3",
   "language": "python",
   "name": "python3"
  },
  "language_info": {
   "codemirror_mode": {
    "name": "ipython",
    "version": 3
   },
   "file_extension": ".py",
   "mimetype": "text/x-python",
   "name": "python",
   "nbconvert_exporter": "python",
   "pygments_lexer": "ipython3",
   "version": "3.7.0"
  }
 },
 "nbformat": 4,
 "nbformat_minor": 2
}
